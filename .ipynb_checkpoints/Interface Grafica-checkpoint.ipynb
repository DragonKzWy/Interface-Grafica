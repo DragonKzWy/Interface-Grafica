{
 "cells": [
  {
   "cell_type": "code",
   "execution_count": 24,
   "id": "635d08ff",
   "metadata": {},
   "outputs": [],
   "source": [
    "import requests\n",
    "from tkinter import *\n",
    "\n",
    "def pegar_cotacoes():\n",
    "    requisicao = requests.get(\"https://economia.awesomeapi.com.br/last/USD-BRL,EUR-BRL,BTC-BRL\")\n",
    "\n",
    "    requisicao_dic = requisicao.json()\n",
    "\n",
    "    cotacao_dolar = requisicao_dic['USDBRL']['bid']\n",
    "    cotacao_euro = requisicao_dic['EURBRL']['bid']\n",
    "    cotacao_btc = requisicao_dic['BTCBRL']['bid']\n",
    "\n",
    "    texto = f'''\n",
    "    Dólar: {cotacao_dolar}\n",
    "    Euro: {cotacao_euro}\n",
    "    BTC: {cotacao_btc}'''\n",
    "\n",
    "    texto_cotacao[\"text\"] = texto\n",
    "\n",
    "janela = Tk()\n",
    "janela.title(\"Cotação Atual das Moedas\")\n",
    "janela.geometry(\"360x250\")\n",
    "\n",
    "texto_orientacao = Label(janela, text=\"Clique no botão abaixo para exibir as cotações atual dos ativos.\")\n",
    "texto_orientacao.grid(column=0, row=0, padx=10, pady=10)\n",
    "\n",
    "botao = Button(janela, text=\"Buscar cotações USD / EUR / BTC\", command=pegar_cotacoes)\n",
    "botao.grid(column=0, row=1, padx=10, pady=10)\n",
    "\n",
    "texto_cotacao = Label(janela, text=\"\")\n",
    "texto_cotacao.grid(column=0, row=2, padx=10, pady=10)\n",
    "janela.mainloop()"
   ]
  }
 ],
 "metadata": {
  "kernelspec": {
   "display_name": "Python 3 (ipykernel)",
   "language": "python",
   "name": "python3"
  },
  "language_info": {
   "codemirror_mode": {
    "name": "ipython",
    "version": 3
   },
   "file_extension": ".py",
   "mimetype": "text/x-python",
   "name": "python",
   "nbconvert_exporter": "python",
   "pygments_lexer": "ipython3",
   "version": "3.9.13"
  }
 },
 "nbformat": 4,
 "nbformat_minor": 5
}
